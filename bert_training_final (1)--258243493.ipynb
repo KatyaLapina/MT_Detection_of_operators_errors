{
 "cells": [
  {
   "cell_type": "code",
   "execution_count": null,
   "id": "279eb2c8-d4c0-408b-a4a4-dcec81c62e4c",
   "metadata": {},
   "outputs": [],
   "source": [
    "import pandas as pd"
   ]
  },
  {
   "cell_type": "code",
   "execution_count": null,
   "id": "39867ef4-e8fb-4612-923e-3d320a7b0e38",
   "metadata": {},
   "outputs": [],
   "source": [
    "X_test = pd.read_csv('X_test.csv')\n",
    "y_test = pd.read_csv('y_test.csv')"
   ]
  },
  {
   "cell_type": "code",
   "execution_count": null,
   "id": "d2b418d7-b546-479e-949a-5a55df0843cf",
   "metadata": {},
   "outputs": [],
   "source": [
    "X_train = pd.read_csv('X_train.csv')\n",
    "y_train = pd.read_csv('y_train.csv')"
   ]
  },
  {
   "cell_type": "code",
   "execution_count": null,
   "id": "6c8c7b42-c287-4f76-9d38-8972fce0bdc0",
   "metadata": {},
   "outputs": [],
   "source": [
    "X_val = pd.read_csv('X_val.csv')\n",
    "y_val = pd.read_csv('y_val.csv')"
   ]
  },
  {
   "cell_type": "code",
   "execution_count": null,
   "id": "16f90304-b5d4-4244-b8dc-e9c7c80a9308",
   "metadata": {},
   "outputs": [],
   "source": [
    "pip install torch"
   ]
  },
  {
   "cell_type": "code",
   "execution_count": null,
   "id": "adf02062-f88d-43be-857c-4d1ccf94dde0",
   "metadata": {
    "scrolled": true
   },
   "outputs": [],
   "source": [
    "pip install transformers"
   ]
  },
  {
   "cell_type": "code",
   "execution_count": null,
   "id": "e2d6aefb-cb46-4df9-ae76-7bb9c4d4c52d",
   "metadata": {},
   "outputs": [],
   "source": [
    "# Импорт библиотек\n",
    "import torch\n",
    "from torch.optim import AdamW\n",
    "from transformers import BertTokenizer, BertForSequenceClassification\n",
    "from torch.utils.data import Dataset, DataLoader\n",
    "from sklearn.model_selection import train_test_split\n",
    "from sklearn.metrics import accuracy_score, f1_score\n",
    "import pandas as pd"
   ]
  },
  {
   "cell_type": "code",
   "execution_count": null,
   "id": "93e2a1bb-8319-4e48-8b23-13ef5db601cb",
   "metadata": {},
   "outputs": [],
   "source": [
    "device = torch.device(\"cuda\" if torch.cuda.is_available() else \"cpu\")\n",
    "print(f\"Используемое устройство: {device}\")"
   ]
  },
  {
   "cell_type": "code",
   "execution_count": null,
   "id": "eb66901a-fc9e-41d5-a503-18de96e06ef5",
   "metadata": {},
   "outputs": [],
   "source": [
    "pip install sentencepiece"
   ]
  },
  {
   "cell_type": "code",
   "execution_count": null,
   "id": "c76e4022-ad06-4a43-82fc-ca0dc8fe2472",
   "metadata": {},
   "outputs": [],
   "source": [
    "model_name = 'DeepPavlov/rubert-base-cased'\n",
    "tokenizer = BertTokenizer.from_pretrained(model_name)\n",
    "model = BertForSequenceClassification.from_pretrained(model_name, num_labels=2)\n",
    "model.to(device)  # Перемещаем модель на GPU"
   ]
  },
  {
   "cell_type": "code",
   "execution_count": null,
   "id": "bd4149bd-b76a-4f27-a5be-4acd38398f1d",
   "metadata": {},
   "outputs": [],
   "source": [
    "from sklearn.utils.class_weight import compute_class_weight\n",
    "import numpy as np"
   ]
  },
  {
   "cell_type": "code",
   "execution_count": null,
   "id": "c1a9ec70-79cb-4291-bc50-7c9198e5ffee",
   "metadata": {},
   "outputs": [],
   "source": [
    "import torch.nn as nn"
   ]
  },
  {
   "cell_type": "code",
   "execution_count": null,
   "id": "8e71b4d4-96ff-4863-a707-fc3b5a2d3341",
   "metadata": {},
   "outputs": [],
   "source": [
    "criterion = nn.CrossEntropyLoss().to(device)"
   ]
  },
  {
   "cell_type": "code",
   "execution_count": null,
   "id": "741ee926-1f86-4d90-9dc5-55baf2eaf4ae",
   "metadata": {},
   "outputs": [],
   "source": [
    "def tokenize(texts):\n",
    "    return tokenizer(\n",
    "        texts.tolist(),\n",
    "        padding=True,\n",
    "        truncation=True,\n",
    "        max_length=256,\n",
    "        return_tensors=\"pt\",\n",
    "        verbose=100\n",
    "    )"
   ]
  },
  {
   "cell_type": "code",
   "execution_count": null,
   "id": "3cfc02e7-c538-4250-add5-6205a76eff38",
   "metadata": {},
   "outputs": [],
   "source": [
    "train_encodings = tokenize(X_train)"
   ]
  },
  {
   "cell_type": "code",
   "execution_count": null,
   "id": "9c492f7b-ff1e-4e72-a025-9cb2b95b1a80",
   "metadata": {},
   "outputs": [],
   "source": [
    "val_encodings = tokenize(X_val)"
   ]
  },
  {
   "cell_type": "code",
   "execution_count": null,
   "id": "070d46a7-796b-4b33-9580-e8828058391a",
   "metadata": {},
   "outputs": [],
   "source": [
    "test_encodings = tokenize(X_test)"
   ]
  },
  {
   "cell_type": "code",
   "execution_count": null,
   "id": "f67fa6a5-ea64-403a-a17e-e812ff5eda4d",
   "metadata": {},
   "outputs": [],
   "source": [
    "class TextDataset(Dataset):\n",
    "    def __init__(self, encodings, labels):\n",
    "        self.encodings = encodings\n",
    "        self.labels = labels\n",
    "\n",
    "    def __getitem__(self, idx):\n",
    "        item = {\n",
    "            key: val[idx].to(device)  # Данные сразу на GPU\n",
    "            for key, val in self.encodings.items()\n",
    "        }\n",
    "        item['labels'] = torch.tensor(self.labels.iloc[idx]).to(device)\n",
    "        return item\n",
    "\n",
    "    def __len__(self):\n",
    "        return len(self.labels)"
   ]
  },
  {
   "cell_type": "code",
   "execution_count": null,
   "id": "4559e8f2-3e52-469f-aa89-d5233c23e135",
   "metadata": {},
   "outputs": [],
   "source": [
    "train_dataset = TextDataset(train_encodings, y_train)\n",
    "test_dataset = TextDataset(test_encodings, y_test)\n",
    "val_dataset = TextDataset(val_encodings, y_val)\n",
    "\n",
    "batch_size = 16\n",
    "train_loader = DataLoader(train_dataset, batch_size=batch_size, shuffle=True)\n",
    "val_loader = DataLoader(val_dataset, batch_size=batch_size)"
   ]
  },
  {
   "cell_type": "code",
   "execution_count": null,
   "id": "fdc7edd3-5f5d-45c2-a408-42c0b6d4191e",
   "metadata": {},
   "outputs": [],
   "source": [
    "optimizer = AdamW(model.parameters(), lr=2e-5)\n",
    "num_epochs = 10\n",
    "best_f1 = 0"
   ]
  },
  {
   "cell_type": "code",
   "execution_count": null,
   "id": "b1b0e6dd-50c1-46de-9de4-91e5d01f04c5",
   "metadata": {},
   "outputs": [],
   "source": [
    "from tqdm import tqdm, trange\n",
    "for epoch in trange(num_epochs):\n",
    "    # Обучение\n",
    "    model.train()\n",
    "    total_loss = 0\n",
    "\n",
    "    for batch in train_loader:\n",
    "        labels = batch['labels']\n",
    "        optimizer.zero_grad()\n",
    "        outputs = model(**batch)\n",
    "        loss = criterion(outputs.logits, labels)\n",
    "        loss.backward()\n",
    "        optimizer.step()\n",
    "        total_loss += loss.item()\n",
    "    \n",
    "    # Валидация\n",
    "    model.eval()\n",
    "    val_preds = []\n",
    "    val_true = []\n",
    "    \n",
    "    with torch.no_grad():\n",
    "        for batch in val_loader:\n",
    "            outputs = model(**batch)\n",
    "            logits = outputs.logits\n",
    "            preds = torch.argmax(logits, dim=1)\n",
    "            val_preds.extend(preds.cpu().numpy())\n",
    "            val_true.extend(batch['labels'].cpu().numpy())\n",
    "    \n",
    "    accuracy = accuracy_score(val_true, val_preds)\n",
    "    f1 = f1_score(val_true, val_preds)\n",
    "    \n",
    "    print(f\"Эпоха {epoch+1}/{num_epochs}\")\n",
    "    print(f\"Train Loss: {total_loss/len(train_loader):.4f}\")\n",
    "    print(f\"Val Accuracy: {accuracy:.4f}, F1: {f1:.4f}\\n\")\n",
    "    if f1 > best_f1:\n",
    "        best_f1 = f1\n",
    "        torch.save({\n",
    "            'model_state_dict': model.state_dict(),\n",
    "            'optimizer_state_dict': optimizer.state_dict(),\n",
    "        }, 'best_model.pth')\n",
    "        print(\"Cool, that's awesome scores! Model saved to best_model.pth\")\n"
   ]
  },
  {
   "cell_type": "markdown",
   "id": "c485a7e9-6cef-44b6-9681-deb2e9e8210a",
   "metadata": {},
   "source": [
    "### Best model metrics"
   ]
  },
  {
   "cell_type": "code",
   "execution_count": null,
   "id": "034e1386-91f4-4283-8fac-476de7b9e31a",
   "metadata": {},
   "outputs": [],
   "source": [
    "from tqdm import tqdm, trange\n",
    "\n",
    "model = BertForSequenceClassification.from_pretrained(model_name, num_labels=2)\n",
    "model.to(device)\n",
    "model.load_state_dict(torch.load('best_model.pth')['model_state_dict'])\n",
    "# Валидация\n",
    "model.eval()\n",
    "val_preds = []\n",
    "val_preds_proba = []\n",
    "val_true = []\n",
    "\n",
    "with torch.no_grad():\n",
    "    for batch in tqdm(val_loader):\n",
    "        outputs = model(**batch)\n",
    "        logits = outputs.logits\n",
    "        preds = torch.argmax(logits, dim=1)\n",
    "        val_preds_proba.extend(logits)\n",
    "        val_preds.extend(preds.cpu().numpy())\n",
    "        val_true.extend(batch['labels'].cpu().numpy())\n",
    "\n",
    "accuracy = accuracy_score(val_true, val_preds)\n",
    "f1 = f1_score(val_true, val_preds)"
   ]
  },
  {
   "cell_type": "code",
   "execution_count": null,
   "id": "5b26e4ec-31a9-4d07-98c7-41e0d7544003",
   "metadata": {},
   "outputs": [],
   "source": [
    "from sklearn.metrics import classification_report, confusion_matrix\n",
    "\n",
    "print(classification_report(val_true, val_preds))\n",
    "print(confusion_matrix(val_true, val_preds))"
   ]
  },
  {
   "cell_type": "code",
   "execution_count": null,
   "id": "d430d4d6-f876-4557-b3de-d09a83b9005b",
   "metadata": {},
   "outputs": [],
   "source": [
    "preds_proba = []\n",
    "for i in val_preds_proba:\n",
    "    preds_proba.append(i.cpu().numpy())"
   ]
  },
  {
   "cell_type": "code",
   "execution_count": null,
   "id": "47eeae5f-1c24-4322-bba0-c2b130731a8b",
   "metadata": {},
   "outputs": [],
   "source": [
    "preds_proba = torch.softmax(torch.from_numpy(np.array(preds_proba)), dim=-1).cpu().numpy()"
   ]
  },
  {
   "cell_type": "code",
   "execution_count": null,
   "id": "bd0a73f1-26bd-44da-b3e2-f2d57b45d1e9",
   "metadata": {},
   "outputs": [],
   "source": [
    "preds = (preds_proba[:, 1] > 0.79) * 1\n",
    "print(classification_report(val_true, preds))\n",
    "print(confusion_matrix(val_true, preds))"
   ]
  },
  {
   "cell_type": "code",
   "execution_count": null,
   "id": "f9f6f8a2-2fdb-4c56-beee-fa298307ca78",
   "metadata": {},
   "outputs": [],
   "source": [
    "from sklearn.metrics import precision_recall_curve\n",
    "\n",
    "precision, recall, thresholds = precision_recall_curve(val_true, preds_proba[:, 1])"
   ]
  },
  {
   "cell_type": "code",
   "execution_count": null,
   "id": "06c8b483-20f6-4fb6-bc96-00a08137a642",
   "metadata": {},
   "outputs": [],
   "source": [
    "import matplotlib.pyplot as plt\n",
    "plt.plot(thresholds, precision[1:], 'r-')\n",
    "plt.plot(thresholds, recall[1:], 'b-')\n",
    "plt.show()"
   ]
  },
  {
   "cell_type": "code",
   "execution_count": null,
   "id": "3247f9b0-b795-4112-b5b5-d4582ed3c300",
   "metadata": {},
   "outputs": [],
   "source": [
    "from tqdm import tqdm, trange\n",
    "\n",
    "model = BertForSequenceClassification.from_pretrained(model_name, num_labels=2)\n",
    "model.to(device)\n",
    "model.load_state_dict(torch.load('best_model.pth')['model_state_dict'])\n",
    "# Валидация\n",
    "model.eval()\n",
    "test_preds = []\n",
    "test_preds_proba = []\n",
    "test_true = []\n",
    "\n",
    "with torch.no_grad():\n",
    "    for batch in tqdm(val_loader):\n",
    "        outputs = model(**batch)\n",
    "        logits = outputs.logits\n",
    "        preds = torch.argmax(logits, dim=1)\n",
    "        test_preds_proba.extend(logits)\n",
    "        test_preds.extend(preds.cpu().numpy())\n",
    "        test_true.extend(batch['labels'].cpu().numpy())\n",
    "\n",
    "accuracy = accuracy_score(test_true, test_preds)\n",
    "f1 = f1_score(test_true, test_preds)"
   ]
  },
  {
   "cell_type": "code",
   "execution_count": null,
   "id": "4b382ba0-8807-434b-966c-a69f2de8e6cc",
   "metadata": {},
   "outputs": [],
   "source": [
    "preds_proba_test = []\n",
    "for i in test_preds_proba:\n",
    "    preds_proba_test.append(i.cpu().numpy())"
   ]
  },
  {
   "cell_type": "code",
   "execution_count": null,
   "id": "a563b599-0e02-45ec-9953-f8748c8e0d64",
   "metadata": {},
   "outputs": [],
   "source": [
    "preds_proba_test = torch.softmax(torch.from_numpy(np.array(preds_proba_test)), dim=-1).cpu().numpy()"
   ]
  },
  {
   "cell_type": "code",
   "execution_count": null,
   "id": "9b2750f1-92d0-4e36-81fb-44abe40a55e5",
   "metadata": {},
   "outputs": [],
   "source": [
    "preds = (preds_proba_test[:, 1] > 0.79) * 1\n",
    "print(classification_report(test_true, preds))\n",
    "print(confusion_matrix(test_true, preds))"
   ]
  },
  {
   "cell_type": "markdown",
   "id": "fc91aa63-4089-4479-800e-80cae0a49dfb",
   "metadata": {},
   "source": [
    "### Augmentation"
   ]
  },
  {
   "cell_type": "code",
   "execution_count": null,
   "id": "e6f5bce7-799f-4b9e-9d16-43422c65ad1a",
   "metadata": {},
   "outputs": [],
   "source": [
    "train_dataset = pd.DataFrame({'message_txt': X_train, 'error': y_train})\n",
    "train_dataset"
   ]
  },
  {
   "cell_type": "code",
   "execution_count": null,
   "id": "deedf7f2-cded-46ed-a704-6ecbd435b873",
   "metadata": {
    "scrolled": true
   },
   "outputs": [],
   "source": [
    "# Разделение на классы\n",
    "minority = train_dataset[train_dataset['error'] == 1]\n",
    "majority = train_dataset[train_dataset['error'] == 0]\n",
    "\n",
    "# Аугментация миноритарного класса\n",
    "minority_augmented = minority.copy()\n",
    "\n",
    "# Балансировка данных\n",
    "df_balanced = pd.concat([majority, minority, minority_augmented]).sample(frac=1)"
   ]
  },
  {
   "cell_type": "code",
   "execution_count": null,
   "id": "dc6faa43-778f-426f-8181-08d0f2997592",
   "metadata": {},
   "outputs": [],
   "source": [
    "df_balanced.error.value_counts()"
   ]
  },
  {
   "cell_type": "markdown",
   "id": "cacdc5eb-f32e-4c8e-a0aa-68f2312251aa",
   "metadata": {},
   "source": [
    "### Обучение на аугментированных данных "
   ]
  },
  {
   "cell_type": "code",
   "execution_count": null,
   "id": "de3b80e7-0352-42ef-aed5-ad8b73271e1b",
   "metadata": {},
   "outputs": [],
   "source": [
    "model_name = 'DeepPavlov/rubert-base-cased'\n",
    "tokenizer = BertTokenizer.from_pretrained(model_name)\n",
    "model = BertForSequenceClassification.from_pretrained(model_name, num_labels=2)\n",
    "model.to(device)"
   ]
  },
  {
   "cell_type": "code",
   "execution_count": null,
   "id": "236725b5-ae8d-43ea-a12d-612c0a3662ad",
   "metadata": {},
   "outputs": [],
   "source": [
    "train_encodings = tokenize(df_balanced.message_txt)"
   ]
  },
  {
   "cell_type": "code",
   "execution_count": null,
   "id": "bf59a70d-d134-4b71-b1c4-af9edc2aed18",
   "metadata": {},
   "outputs": [],
   "source": [
    "df_balanced.message_txt"
   ]
  },
  {
   "cell_type": "code",
   "execution_count": null,
   "id": "f666b49c-5f80-441e-98ad-21a74469d83b",
   "metadata": {},
   "outputs": [],
   "source": [
    "train_dataset = TextDataset(train_encodings, df_balanced.error)\n",
    "test_dataset = TextDataset(test_encodings, y_test)\n",
    "\n",
    "batch_size = 16\n",
    "train_loader = DataLoader(train_dataset, batch_size=batch_size, shuffle=True)\n",
    "val_loader = DataLoader(val_dataset, batch_size=batch_size)\n",
    "test_loader = DataLoader(test_dataset, batch_size=batch_size)"
   ]
  },
  {
   "cell_type": "code",
   "execution_count": null,
   "id": "dece3a33-f0dd-48ed-966b-7946b7abdc46",
   "metadata": {},
   "outputs": [],
   "source": [
    "optimizer = AdamW(model.parameters(), lr=2e-5)\n",
    "num_epochs = 10\n",
    "best_f1 = 0"
   ]
  },
  {
   "cell_type": "code",
   "execution_count": null,
   "id": "0dc53ae0-e94d-4688-a41d-1b1a2cd35442",
   "metadata": {},
   "outputs": [],
   "source": [
    "from tqdm import tqdm, trange\n",
    "for epoch in trange(num_epochs):\n",
    "    # Обучение\n",
    "    model.train()\n",
    "    total_loss = 0\n",
    "\n",
    "    for batch in train_loader:\n",
    "        labels = batch['labels']\n",
    "        optimizer.zero_grad()\n",
    "        outputs = model(**batch)\n",
    "        loss = criterion(outputs.logits, labels)\n",
    "        loss.backward()\n",
    "        optimizer.step()\n",
    "        total_loss += loss.item()\n",
    "    \n",
    "    # Валидация\n",
    "    model.eval()\n",
    "    val_preds = []\n",
    "    val_true = []\n",
    "    \n",
    "    with torch.no_grad():\n",
    "        for batch in val_loader:\n",
    "            outputs = model(**batch)\n",
    "            logits = outputs.logits\n",
    "            preds = torch.argmax(logits, dim=1)\n",
    "            val_preds.extend(preds.cpu().numpy())\n",
    "            val_true.extend(batch['labels'].cpu().numpy())\n",
    "    \n",
    "    accuracy = accuracy_score(val_true, val_preds)\n",
    "    f1 = f1_score(val_true, val_preds)\n",
    "    \n",
    "    print(f\"Эпоха {epoch+1}/{num_epochs}\")\n",
    "    print(f\"Train Loss: {total_loss/len(train_loader):.4f}\")\n",
    "    print(f\"Val Accuracy: {accuracy:.4f}, F1: {f1:.4f}\\n\")\n",
    "    if f1 > best_f1:\n",
    "        best_f1 = f1\n",
    "        torch.save({\n",
    "            'model_state_dict': model.state_dict(),\n",
    "            'optimizer_state_dict': optimizer.state_dict(),\n",
    "        }, 'best_model.pth')\n",
    "        print(\"Cool, that's awesome scores! Model saved to best_model.pth\")"
   ]
  },
  {
   "cell_type": "code",
   "execution_count": null,
   "id": "af2ca563-df89-48d1-97f2-3ffdb7338f10",
   "metadata": {},
   "outputs": [],
   "source": [
    "from tqdm import tqdm, trange\n",
    "\n",
    "model = BertForSequenceClassification.from_pretrained(model_name, num_labels=2)\n",
    "model.to(device)\n",
    "model.load_state_dict(torch.load('best_model.pth')['model_state_dict'])\n",
    "# Валидация\n",
    "model.eval()\n",
    "val_preds = []\n",
    "val_preds_proba = []\n",
    "val_true = []\n",
    "\n",
    "with torch.no_grad():\n",
    "    for batch in tqdm(val_loader):\n",
    "        outputs = model(**batch)\n",
    "        logits = outputs.logits\n",
    "        preds = torch.argmax(logits, dim=1)\n",
    "        val_preds_proba.extend(logits)\n",
    "        val_preds.extend(preds.cpu().numpy())\n",
    "        val_true.extend(batch['labels'].cpu().numpy())\n",
    "\n",
    "accuracy = accuracy_score(val_true, val_preds)\n",
    "f1 = f1_score(val_true, val_preds)"
   ]
  },
  {
   "cell_type": "code",
   "execution_count": null,
   "id": "19a58710-3698-408c-9c42-35abdcf29d64",
   "metadata": {},
   "outputs": [],
   "source": [
    "from sklearn.metrics import classification_report, confusion_matrix\n",
    "\n",
    "print(classification_report(val_true, val_preds))\n",
    "print(confusion_matrix(val_true, val_preds))"
   ]
  },
  {
   "cell_type": "code",
   "execution_count": null,
   "id": "e99dfa50-0563-4a6c-806d-0378b26fb5e9",
   "metadata": {},
   "outputs": [],
   "source": [
    "val_preds_proba[0].cpu().numpy()"
   ]
  },
  {
   "cell_type": "code",
   "execution_count": null,
   "id": "8422342c-e4ed-4681-aad6-42651e9c1787",
   "metadata": {},
   "outputs": [],
   "source": [
    "preds_proba = []\n",
    "for i in val_preds_proba:\n",
    "    preds_proba.append(i.cpu().numpy())"
   ]
  },
  {
   "cell_type": "code",
   "execution_count": null,
   "id": "f6a5ae5f-dc43-403f-a302-8681d600acc1",
   "metadata": {},
   "outputs": [],
   "source": [
    "preds_proba = torch.softmax(torch.from_numpy(np.array(preds_proba)), dim=-1).cpu().numpy()"
   ]
  },
  {
   "cell_type": "code",
   "execution_count": null,
   "id": "3370035d-6133-4770-9902-f33d149a234d",
   "metadata": {},
   "outputs": [],
   "source": [
    "preds = (preds_proba[:, 1] > 0.80) * 1\n",
    "print(classification_report(val_true, preds))\n",
    "print(confusion_matrix(val_true, preds))"
   ]
  },
  {
   "cell_type": "code",
   "execution_count": null,
   "id": "728b2c14-77c6-45aa-97e0-777a077bace1",
   "metadata": {},
   "outputs": [],
   "source": [
    "from tqdm import tqdm, trange\n",
    "\n",
    "model = BertForSequenceClassification.from_pretrained(model_name, num_labels=2)\n",
    "model.to(device)\n",
    "model.load_state_dict(torch.load('best_model.pth')['model_state_dict'])\n",
    "# Валидация\n",
    "model.eval()\n",
    "test_preds = []\n",
    "test_preds_proba = []\n",
    "test_true = []\n",
    "\n",
    "with torch.no_grad():\n",
    "    for batch in tqdm(val_loader):\n",
    "        outputs = model(**batch)\n",
    "        logits = outputs.logits\n",
    "        preds = torch.argmax(logits, dim=1)\n",
    "        test_preds_proba.extend(logits)\n",
    "        test_preds.extend(preds.cpu().numpy())\n",
    "        test_true.extend(batch['labels'].cpu().numpy())\n",
    "\n",
    "accuracy = accuracy_score(test_true, test_preds)\n",
    "f1 = f1_score(test_true, test_preds)"
   ]
  },
  {
   "cell_type": "code",
   "execution_count": null,
   "id": "2e21a3bf-6ba9-4b1e-abfc-74198dd457c2",
   "metadata": {},
   "outputs": [],
   "source": [
    "from sklearn.metrics import classification_report, confusion_matrix\n",
    "\n",
    "print(classification_report(test_true, test_preds))\n",
    "print(confusion_matrix(test_true, test_preds))"
   ]
  },
  {
   "cell_type": "code",
   "execution_count": null,
   "id": "5d9a7bbc-c7c4-47d6-92c9-039e67c71321",
   "metadata": {},
   "outputs": [],
   "source": [
    "test_preds_proba[0].cpu().numpy()"
   ]
  },
  {
   "cell_type": "code",
   "execution_count": null,
   "id": "ee190074-8345-49c0-9872-a7d759a21f59",
   "metadata": {},
   "outputs": [],
   "source": [
    "preds_proba_test = []\n",
    "for i in test_preds_proba:\n",
    "    preds_proba_test.append(i.cpu().numpy())"
   ]
  },
  {
   "cell_type": "code",
   "execution_count": null,
   "id": "099754e6-062f-4999-a19d-d6422371e563",
   "metadata": {},
   "outputs": [],
   "source": [
    "preds_proba_test = torch.softmax(torch.from_numpy(np.array(preds_proba_test)), dim=-1).cpu().numpy()"
   ]
  },
  {
   "cell_type": "code",
   "execution_count": null,
   "id": "9423612e-b797-48e0-9665-05abac4f0021",
   "metadata": {},
   "outputs": [],
   "source": [
    "preds = (preds_proba_test[:, 1] > 0.80) * 1\n",
    "print(classification_report(test_true, preds))\n",
    "print(confusion_matrix(test_true, preds))"
   ]
  },
  {
   "cell_type": "markdown",
   "id": "27f2bf6d-4fad-4262-9f23-fa2067b1e63b",
   "metadata": {},
   "source": [
    "### Аугментация с обратным переводом "
   ]
  },
  {
   "cell_type": "code",
   "execution_count": null,
   "id": "ba6dbcd8-0ef4-4d33-9e06-8bc85695fb31",
   "metadata": {},
   "outputs": [],
   "source": [
    "pip install sentencepiece"
   ]
  },
  {
   "cell_type": "code",
   "execution_count": null,
   "id": "44a7502a-e1e5-4afc-b8ef-1959a9103b03",
   "metadata": {},
   "outputs": [],
   "source": [
    "from transformers import AutoTokenizer, AutoModelForSeq2SeqLM"
   ]
  },
  {
   "cell_type": "code",
   "execution_count": null,
   "id": "0e617341-5788-4216-9a12-3fd2f3cd2190",
   "metadata": {},
   "outputs": [],
   "source": [
    "from time import time"
   ]
  },
  {
   "cell_type": "code",
   "execution_count": null,
   "id": "00c8096f-4687-402f-97c1-93ad15242587",
   "metadata": {},
   "outputs": [],
   "source": [
    "from transformers import pipeline\n",
    "\n",
    "# Инициализация моделей перевода (русский → английский → русский)\n",
    "translator_ru_en = pipeline('translation_ru_to_en', model='Helsinki-NLP/opus-mt-ru-en')\n",
    "translator_en_ru = pipeline('translation_en_to_ru', model='Helsinki-NLP/opus-mt-en-ru')"
   ]
  },
  {
   "cell_type": "code",
   "execution_count": null,
   "id": "2776742c-5b15-4666-9565-063b6e53fcbd",
   "metadata": {},
   "outputs": [],
   "source": [
    "def back_translate(text):\n",
    "    en_text = translator_ru_en(text)[0]['translation_text']\n",
    "    ru_text = translator_en_ru(en_text)[0]['translation_text']\n",
    "    return ru_text"
   ]
  },
  {
   "cell_type": "code",
   "execution_count": null,
   "id": "edff6056-6d42-4730-bf3a-3353d64d5382",
   "metadata": {},
   "outputs": [],
   "source": [
    "from tqdm import tqdm"
   ]
  },
  {
   "cell_type": "code",
   "execution_count": null,
   "id": "35f21949-c867-4a78-805f-120b9c61f99b",
   "metadata": {},
   "outputs": [],
   "source": [
    "X_train_new_1_class = []"
   ]
  },
  {
   "cell_type": "code",
   "execution_count": null,
   "id": "a4d944cb-708c-4f6a-98d1-ab3c88b740cd",
   "metadata": {},
   "outputs": [],
   "source": [
    "X_train_1_class = X_train.loc[y_train == 1]"
   ]
  },
  {
   "cell_type": "code",
   "execution_count": null,
   "id": "2dde0225-1365-46c4-9d4d-4dc88ee496e6",
   "metadata": {},
   "outputs": [],
   "source": [
    "c = 0\n",
    "d = 0\n",
    "for i in tqdm(X_train_1_class):\n",
    "    for j in i.split('. '):\n",
    "        if len(j) > 400:\n",
    "            c += 1\n",
    "        d += 1\n",
    "c, d"
   ]
  },
  {
   "cell_type": "code",
   "execution_count": null,
   "id": "8166e7bd-2dbc-4b16-b851-728071f19410",
   "metadata": {},
   "outputs": [],
   "source": [
    "%%time\n",
    "for j in X_train.iloc[227].split('. ') * 5:\n",
    "    translator_ru_en(j)\n"
   ]
  },
  {
   "cell_type": "code",
   "execution_count": null,
   "id": "a48d8be7-11bf-46e6-a9e2-97909434d408",
   "metadata": {},
   "outputs": [],
   "source": [
    "batch_size = 10\n",
    "batches = [X_train_1_class[x:x+batch_size] for x in range(0, len(X_train_1_class), batch_size)]\n",
    "len(batches)"
   ]
  },
  {
   "cell_type": "code",
   "execution_count": null,
   "id": "f36e3215-9ea7-4c5d-aaba-ca9c940ca50b",
   "metadata": {},
   "outputs": [],
   "source": [
    "splitted_batches = []\n",
    "indexes_batch = []\n",
    "for batch in tqdm(batches):\n",
    "    tmp_batch = []\n",
    "    tmp_index = [0]\n",
    "    for t in batch:\n",
    "        tmp_batch.extend(t.split('. '))\n",
    "        tmp_index.append(tmp_index[-1] + len(t.split('. ')))\n",
    "    splitted_batches.append(tmp_batch)\n",
    "    indexes_batch.append(tmp_index)"
   ]
  },
  {
   "cell_type": "code",
   "execution_count": null,
   "id": "8b653f1e-7a8e-4ece-864f-904fa1436712",
   "metadata": {},
   "outputs": [],
   "source": [
    "indexes_batch"
   ]
  },
  {
   "cell_type": "code",
   "execution_count": null,
   "id": "290982d6-bae1-4599-aa20-b35e5f0757c4",
   "metadata": {},
   "outputs": [],
   "source": [
    "translated_batches = []"
   ]
  },
  {
   "cell_type": "code",
   "execution_count": null,
   "id": "bcb5e502-20ea-4db4-b17a-aabc906e0cfd",
   "metadata": {},
   "outputs": [],
   "source": [
    "def back_translate_batch(text_batch):\n",
    "    en_text_batch = translator_ru_en(text_batch, batch_size=16)\n",
    "    en_text_batch = [i['translation_text'] for i in en_text_batch]\n",
    "    ru_text_batch = translator_en_ru(en_text_batch, batch_size=16)\n",
    "    ru_text_batch = [i['translation_text'] for i in ru_text_batch]\n",
    "    return ru_text_batch"
   ]
  },
  {
   "cell_type": "code",
   "execution_count": null,
   "id": "1be6377a-98d3-47d2-9f45-e2446154de2f",
   "metadata": {},
   "outputs": [],
   "source": [
    "from tqdm import tqdm\n",
    "\n",
    "for text_batch, indexes in tqdm(zip(splitted_batches[181:], indexes_batch[181:]), total=len(splitted_batches[181:])):\n",
    "    batch =  back_translate_batch(text_batch)\n",
    "    tmp_batch = []\n",
    "    for j in range(1, len(indexes)):\n",
    "        if j == len(indexes) - 1:\n",
    "            tmp_text = ' '.join(batch[indexes[j - 1]:])\n",
    "        else:\n",
    "            tmp_text = ' '.join(batch[indexes[j - 1]:indexes[j]])\n",
    "        tmp_batch.append(tmp_text)\n",
    "    translated_batches.append(tmp_batch)"
   ]
  },
  {
   "cell_type": "code",
   "execution_count": null,
   "id": "300053a8-64fc-4b07-b60b-09900a94dd80",
   "metadata": {},
   "outputs": [],
   "source": [
    "pd.Series(batch_text[0])"
   ]
  },
  {
   "cell_type": "code",
   "execution_count": null,
   "id": "b781b427-7764-4e20-9eaf-605777c1081d",
   "metadata": {},
   "outputs": [],
   "source": [
    "c = 0\n",
    "for i in batch_text[0]:\n",
    "    c += 1\n",
    "c"
   ]
  },
  {
   "cell_type": "code",
   "execution_count": null,
   "id": "0447106e-56c9-40a1-a5f4-c3097ad1222f",
   "metadata": {},
   "outputs": [],
   "source": [
    "all_df = []\n",
    "for i in batch_text:\n",
    "    for j in i:\n",
    "        all_df.append(j)\n",
    "pd.Series(all_df)"
   ]
  },
  {
   "cell_type": "code",
   "execution_count": null,
   "id": "adedb4c4-20d2-429d-b4b6-f79dfdd1ccf3",
   "metadata": {},
   "outputs": [],
   "source": [
    "translated_batches = []"
   ]
  },
  {
   "cell_type": "code",
   "execution_count": null,
   "id": "337d7504-f2b0-4d23-a9ab-d0598b0d71c2",
   "metadata": {},
   "outputs": [],
   "source": [
    "from tqdm import tqdm\n",
    "\n",
    "for text_batch, indexes in tqdm(zip(splitted_batches[181:], indexes_batch[181:]), total=len(splitted_batches[181:])):\n",
    "    batch =  back_translate_batch(text_batch)\n",
    "    tmp_batch = []\n",
    "    for j in range(1, len(indexes)):\n",
    "        if j == len(indexes) - 1:\n",
    "            tmp_text = ' '.join(batch[indexes[j - 1]:])\n",
    "        else:\n",
    "            tmp_text = ' '.join(batch[indexes[j - 1]:indexes[j]])\n",
    "        tmp_batch.append(tmp_text)\n",
    "    translated_batches.append(tmp_batch)"
   ]
  },
  {
   "cell_type": "code",
   "execution_count": null,
   "id": "4ba05b78-8972-491c-8fc5-0cf41b4483fb",
   "metadata": {},
   "outputs": [],
   "source": [
    "all_df = []\n",
    "for i in translated_batches:\n",
    "    for j in i:\n",
    "        all_df.append(j)\n",
    "pd.Series(all_df)"
   ]
  },
  {
   "cell_type": "code",
   "execution_count": null,
   "id": "d05771f1-6251-4781-a367-50f6e8240f6c",
   "metadata": {},
   "outputs": [],
   "source": [
    "for x in tqdm(splitted_batches):\n",
    "    for i in x:\n",
    "        \n",
    "    spltd = x.split('. ')\n",
    "    translated_txt = []\n",
    "    for sen in spltd:\n",
    "       \n",
    "    translated_txt.append(back_translate(sen))\n",
    "    X_train_new.append(' '.join(translated_txt))"
   ]
  },
  {
   "cell_type": "code",
   "execution_count": null,
   "id": "bcb6ab00-3fc0-4a43-a8ce-dbb6d2e3b909",
   "metadata": {},
   "outputs": [],
   "source": [
    "df = all_df.copy()"
   ]
  },
  {
   "cell_type": "code",
   "execution_count": null,
   "id": "ddc4e979-3324-49a6-a7cd-6d2a1549403f",
   "metadata": {},
   "outputs": [],
   "source": [
    "model_name = 'DeepPavlov/rubert-base-cased'\n",
    "tokenizer = BertTokenizer.from_pretrained(model_name)\n",
    "model = BertForSequenceClassification.from_pretrained(model_name, num_labels=2)\n",
    "model.to(device)"
   ]
  },
  {
   "cell_type": "code",
   "execution_count": null,
   "id": "501e2a52-4fd1-4704-813a-48d48e845e14",
   "metadata": {},
   "outputs": [],
   "source": [
    "df[df['error'] == 0]"
   ]
  },
  {
   "cell_type": "code",
   "execution_count": null,
   "id": "e6760824-bbbf-45a1-af58-dcbf46041948",
   "metadata": {},
   "outputs": [],
   "source": [
    "train_encodings = tokenize(df.message_txt)"
   ]
  },
  {
   "cell_type": "code",
   "execution_count": null,
   "id": "bf90403a-f5cd-487b-9b63-5579a79f9344",
   "metadata": {},
   "outputs": [],
   "source": [
    "test_encodings = tokenize(X_test)"
   ]
  },
  {
   "cell_type": "code",
   "execution_count": null,
   "id": "fe378bc4-6829-4679-a037-c7d526137176",
   "metadata": {},
   "outputs": [],
   "source": [
    "val_encodings = tokenize(X_val)"
   ]
  },
  {
   "cell_type": "code",
   "execution_count": null,
   "id": "ef0265d5-a0b2-4739-80c6-9aa7c8cb1425",
   "metadata": {},
   "outputs": [],
   "source": [
    "df_test = pd.DataFrame({'message_txt': X_test, 'error': y_test})"
   ]
  },
  {
   "cell_type": "code",
   "execution_count": null,
   "id": "a430c305-0b9b-4438-aa66-1b9b8ad9b3a8",
   "metadata": {},
   "outputs": [],
   "source": [
    "df_test.to_csv('df_test.csv')"
   ]
  },
  {
   "cell_type": "code",
   "execution_count": null,
   "id": "6da60b99-b663-4542-950f-be7e919fdbc6",
   "metadata": {},
   "outputs": [],
   "source": [
    "train_dataset = TextDataset(train_encodings, df.error)\n",
    "test_dataset = TextDataset(test_encodings, y_test)\n",
    "val_dataset = TextDataset(val_encodings, y_test)\n",
    "\n",
    "batch_size = 16\n",
    "train_loader = DataLoader(train_dataset, batch_size=batch_size, shuffle=True)\n",
    "val_loader = DataLoader(val_dataset, batch_size=batch_size)\n",
    "test_loader = DataLoader(test_dataset, batch_size=batch_size)"
   ]
  },
  {
   "cell_type": "code",
   "execution_count": null,
   "id": "9766a8bf-2293-4ec8-87dd-694f6729e849",
   "metadata": {},
   "outputs": [],
   "source": [
    "optimizer = AdamW(model.parameters(), lr=2e-5)\n",
    "num_epochs = 10\n",
    "best_f1 = 0"
   ]
  },
  {
   "cell_type": "code",
   "execution_count": null,
   "id": "35be2b85-2d87-4ced-9f2d-5bb27b3ed9f1",
   "metadata": {},
   "outputs": [],
   "source": [
    "from tqdm import tqdm, trange\n",
    "for epoch in trange(num_epochs):\n",
    "    # Обучение\n",
    "    model.train()\n",
    "    total_loss = 0\n",
    "\n",
    "    for batch in train_loader:\n",
    "        labels = batch['labels']\n",
    "        optimizer.zero_grad()\n",
    "        outputs = model(**batch)\n",
    "        loss = criterion(outputs.logits, labels)\n",
    "        loss.backward()\n",
    "        optimizer.step()\n",
    "        total_loss += loss.item()\n",
    "    \n",
    "    # Валидация\n",
    "    model.eval()\n",
    "    val_preds = []\n",
    "    val_true = []\n",
    "    \n",
    "    with torch.no_grad():\n",
    "        for batch in val_loader:\n",
    "            outputs = model(**batch)\n",
    "            logits = outputs.logits\n",
    "            preds = torch.argmax(logits, dim=1)\n",
    "            val_preds.extend(preds.cpu().numpy())\n",
    "            val_true.extend(batch['labels'].cpu().numpy())\n",
    "    \n",
    "    accuracy = accuracy_score(val_true, val_preds)\n",
    "    f1 = f1_score(val_true, val_preds)\n",
    "    \n",
    "    print(f\"Эпоха {epoch+1}/{num_epochs}\")\n",
    "    print(f\"Train Loss: {total_loss/len(train_loader):.4f}\")\n",
    "    print(f\"Val Accuracy: {accuracy:.4f}, F1: {f1:.4f}\\n\")\n",
    "    if f1 > best_f1:\n",
    "        best_f1 = f1\n",
    "        torch.save({\n",
    "            'model_state_dict': model.state_dict(),\n",
    "            'optimizer_state_dict': optimizer.state_dict(),\n",
    "        }, 'best_model.pth')\n",
    "        print(\"Cool, that's awesome scores! Model saved to best_model.pth\")"
   ]
  },
  {
   "cell_type": "code",
   "execution_count": null,
   "id": "d12bb892-bb50-4ca9-bd92-5967ed75e71e",
   "metadata": {},
   "outputs": [],
   "source": [
    "from tqdm import tqdm, trange\n",
    "\n",
    "model = BertForSequenceClassification.from_pretrained(model_name, num_labels=2)\n",
    "model.to(device)\n",
    "model.load_state_dict(torch.load('best_model.pth')['model_state_dict'])\n",
    "# Валидация\n",
    "model.eval()\n",
    "val_preds = []\n",
    "val_preds_proba = []\n",
    "val_true = []\n",
    "\n",
    "with torch.no_grad():\n",
    "    for batch in tqdm(val_loader):\n",
    "        outputs = model(**batch)\n",
    "        logits = outputs.logits\n",
    "        preds = torch.argmax(logits, dim=1)\n",
    "        val_preds_proba.extend(logits)\n",
    "        val_preds.extend(preds.cpu().numpy())\n",
    "        val_true.extend(batch['labels'].cpu().numpy())\n",
    "\n",
    "accuracy = accuracy_score(val_true, val_preds)\n",
    "f1 = f1_score(val_true, val_preds)"
   ]
  },
  {
   "cell_type": "code",
   "execution_count": null,
   "id": "4c17d6b3-ebd4-42e1-8e63-4803f14d1a82",
   "metadata": {},
   "outputs": [],
   "source": [
    "from sklearn.metrics import classification_report, confusion_matrix\n",
    "\n",
    "print(classification_report(val_true, val_preds))\n",
    "print(confusion_matrix(val_true, val_preds))"
   ]
  },
  {
   "cell_type": "code",
   "execution_count": null,
   "id": "56375c8c-7a3d-42b6-99d3-5d2761e9be74",
   "metadata": {},
   "outputs": [],
   "source": [
    "import numpy as np"
   ]
  },
  {
   "cell_type": "code",
   "execution_count": null,
   "id": "8750fa19-d37c-455b-afe2-c52d7fc4a9f6",
   "metadata": {},
   "outputs": [],
   "source": [
    "val_preds_proba[0].cpu().numpy()"
   ]
  },
  {
   "cell_type": "code",
   "execution_count": null,
   "id": "2ac6eea7-9cef-4387-b052-b72a6e3be95b",
   "metadata": {},
   "outputs": [],
   "source": [
    "preds_proba = []\n",
    "for i in val_preds_proba:\n",
    "    preds_proba.append(i.cpu().numpy())"
   ]
  },
  {
   "cell_type": "code",
   "execution_count": null,
   "id": "ec161dc0-88b7-4c99-9f43-c63715c7e2e8",
   "metadata": {},
   "outputs": [],
   "source": [
    "preds_proba = torch.softmax(torch.from_numpy(np.array(preds_proba)), dim=-1).cpu().numpy()"
   ]
  },
  {
   "cell_type": "code",
   "execution_count": null,
   "id": "886e2a83-199f-4258-bb06-32215c5f922b",
   "metadata": {},
   "outputs": [],
   "source": [
    "preds = (preds_proba[:, 1] > 0.87) * 1\n",
    "print(classification_report(val_true, preds))\n",
    "print(confusion_matrix(val_true, preds))"
   ]
  },
  {
   "cell_type": "code",
   "execution_count": null,
   "id": "751376dd-906c-47ec-aa29-b00ef65cf722",
   "metadata": {},
   "outputs": [],
   "source": [
    "from tqdm import tqdm, trange\n",
    "\n",
    "model = BertForSequenceClassification.from_pretrained(model_name, num_labels=2)\n",
    "model.to(device)\n",
    "model.load_state_dict(torch.load('best_model.pth')['model_state_dict'])\n",
    "# Валидация\n",
    "model.eval()\n",
    "test_preds = []\n",
    "test_preds_proba = []\n",
    "test_true = []\n",
    "\n",
    "with torch.no_grad():\n",
    "    for batch in tqdm(val_loader):\n",
    "        outputs = model(**batch)\n",
    "        logits = outputs.logits\n",
    "        preds = torch.argmax(logits, dim=1)\n",
    "        test_preds_proba.extend(logits)\n",
    "        test_preds.extend(preds.cpu().numpy())\n",
    "        test_true.extend(batch['labels'].cpu().numpy())\n",
    "\n",
    "accuracy = accuracy_score(test_true, test_preds)\n",
    "f1 = f1_score(test_true, test_preds)"
   ]
  },
  {
   "cell_type": "code",
   "execution_count": null,
   "id": "7af40403-fab0-479f-b4af-5cf602baaa10",
   "metadata": {},
   "outputs": [],
   "source": [
    "from sklearn.metrics import classification_report, confusion_matrix\n",
    "\n",
    "print(classification_report(test_true, test_preds))\n",
    "print(confusion_matrix(test_true, test_preds))"
   ]
  },
  {
   "cell_type": "code",
   "execution_count": null,
   "id": "c0a4532e-3335-4d9f-93d0-4fe19e74690f",
   "metadata": {},
   "outputs": [],
   "source": [
    "test_preds_proba[0].cpu().numpy()"
   ]
  },
  {
   "cell_type": "code",
   "execution_count": null,
   "id": "8ffaabd3-966f-45f3-a5ae-1bc1a1e83533",
   "metadata": {},
   "outputs": [],
   "source": [
    "preds_proba_test = []\n",
    "for i in test_preds_proba:\n",
    "    preds_proba_test.append(i.cpu().numpy())"
   ]
  },
  {
   "cell_type": "code",
   "execution_count": null,
   "id": "e86dcef0-f936-4f86-ac9f-2b24758458a7",
   "metadata": {},
   "outputs": [],
   "source": [
    "preds_proba_test = torch.softmax(torch.from_numpy(np.array(preds_proba_test)), dim=-1).cpu().numpy()"
   ]
  },
  {
   "cell_type": "code",
   "execution_count": null,
   "id": "4f1efe03-71c2-4baa-9a11-135ac4794d31",
   "metadata": {},
   "outputs": [],
   "source": [
    "preds = (preds_proba_test[:, 1] > 0.87) * 1\n",
    "print(classification_report(test_true, preds))\n",
    "print(confusion_matrix(test_true, preds))"
   ]
  }
 ],
 "metadata": {
  "kernelspec": {
   "display_name": "Python 3 (ipykernel)",
   "language": "python",
   "name": "python3"
  },
  "language_info": {
   "codemirror_mode": {
    "name": "ipython",
    "version": 3
   },
   "file_extension": ".py",
   "mimetype": "text/x-python",
   "name": "python",
   "nbconvert_exporter": "python",
   "pygments_lexer": "ipython3",
   "version": "3.12.7"
  }
 },
 "nbformat": 4,
 "nbformat_minor": 5
}
