{
 "cells": [
  {
   "cell_type": "code",
   "execution_count": null,
   "id": "0ef8786e-a302-4052-b44d-8627534319b1",
   "metadata": {},
   "outputs": [],
   "source": [
    "import numpy as np\n",
    "import pandas as pd"
   ]
  },
  {
   "cell_type": "markdown",
   "id": "72d0ab84-2065-423f-bc2f-35ca742d3b7c",
   "metadata": {},
   "source": [
    "### Train, test and validation datasets"
   ]
  },
  {
   "cell_type": "code",
   "execution_count": null,
   "id": "a6e190d8-6f1e-4250-b538-f9b8eb105826",
   "metadata": {},
   "outputs": [],
   "source": [
    "X_test = pd.read_csv('X_test.csv')\n",
    "y_test = pd.read_csv('y_test.csv')"
   ]
  },
  {
   "cell_type": "code",
   "execution_count": null,
   "id": "0a93dec9-51c1-49eb-850e-4ac566f8a155",
   "metadata": {},
   "outputs": [],
   "source": [
    "X_train = pd.read_csv('X_train.csv')\n",
    "y_train = pd.read_csv('y_train.csv')"
   ]
  },
  {
   "cell_type": "code",
   "execution_count": null,
   "id": "af95bddc-95b6-4b66-bd69-0e57690eb89c",
   "metadata": {},
   "outputs": [],
   "source": [
    "X_val = pd.read_csv('X_val.csv')\n",
    "y_val = pd.read_csv('y_val.csv')"
   ]
  },
  {
   "cell_type": "code",
   "execution_count": null,
   "id": "18f077d6-e612-45d4-9286-ad2f799d87bd",
   "metadata": {},
   "outputs": [],
   "source": [
    "X = pd.concat([X_test, X_train, X_val])"
   ]
  },
  {
   "cell_type": "markdown",
   "id": "bb7b9fe8-ccbf-4b06-bf07-be05c8ff1b56",
   "metadata": {},
   "source": [
    "### Text preprocessing"
   ]
  },
  {
   "cell_type": "code",
   "execution_count": null,
   "id": "0a04971d-1d86-41c3-b7a1-4c6b22de5b55",
   "metadata": {},
   "outputs": [],
   "source": [
    "import pandas as pd\n",
    "import nltk\n",
    "import re\n",
    "from nltk.tokenize import word_tokenize\n",
    "from nltk.corpus import stopwords\n",
    "from nltk.stem.snowball import SnowballStemmer\n",
    "from gensim.models import Word2Vec\n",
    "import string"
   ]
  },
  {
   "cell_type": "code",
   "execution_count": null,
   "id": "876dbbf0-799b-4eca-a01e-355fe12f6050",
   "metadata": {},
   "outputs": [],
   "source": [
    "from pymystem3 import Mystem"
   ]
  },
  {
   "cell_type": "code",
   "execution_count": null,
   "id": "c0695ff6-51a3-4e4a-996e-018e4184172f",
   "metadata": {},
   "outputs": [],
   "source": [
    "from nltk.tokenize import word_tokenize\n",
    "from nltk import WordNetLemmatizer, PorterStemmer"
   ]
  },
  {
   "cell_type": "code",
   "execution_count": null,
   "id": "b668d7df-bdd1-4df9-8fa6-c94b41bb8760",
   "metadata": {},
   "outputs": [],
   "source": [
    "nltk.download('punkt')\n",
    "nltk.download('punkt_tab')\n",
    "nltk.download('wordnet')\n",
    "nltk.download('stopwords')"
   ]
  },
  {
   "cell_type": "code",
   "execution_count": null,
   "id": "b73223d7-e4a7-4ccb-a373-3e436f0a6a1d",
   "metadata": {},
   "outputs": [],
   "source": [
    "def convert_to_lowercase(text):\n",
    "    return text.lower()\n",
    "\n",
    "# function to remove punctuations from the text\n",
    "def remove_punctuations(text):\n",
    "    text = re.sub(r\"\"\"[\\[\\]«»#$%&\\\"'()*+,-./:;<=>?@\\\\^_`{|}~]\"\"\", '', text)\n",
    "    return text.replace('\\n', '')\n",
    "    \n",
    "# function to remove stopwords from the text\n",
    "def remove_stopwords(text):\n",
    "    from nltk.corpus import stopwords\n",
    "    stopwords = set(stopwords.words('russian'))\n",
    "    return \" \".join([word for word in str(text).split() if word not in stopwords])\n",
    "    \n",
    "# function to remove repeating characters\n",
    "def remove_repeating_characters(text):\n",
    "    return re.sub(r'(.)1+', r'1', text)\n",
    "\n",
    "# function to remove numeric text\n",
    "def remove_numeric(text):\n",
    "    return re.sub('[0-9]+', '', text)\n",
    "\n",
    "def remove_non_russian_words(text):\n",
    "    russian_words_pattern = re.compile(r'\\b[а-яА-ЯёЁ]+\\b')\n",
    "    russian_words = russian_words_pattern.findall(text)\n",
    "    cleaned_text = ' '.join(russian_words)\n",
    "    return cleaned_text\n",
    "\n",
    "# lemmatizing the text. i.e, Converting some of the words to their root form. \n",
    "def text_lematization(text):\n",
    "    mystem = Mystem() \n",
    "    text = mystem.lemmatize(text)\n",
    "    text = [word for word in text if word!= ' ']\n",
    "    return text "
   ]
  },
  {
   "cell_type": "code",
   "execution_count": null,
   "id": "151a6113-e593-43a2-8ea6-ab80a96274f4",
   "metadata": {},
   "outputs": [],
   "source": [
    "X = X.apply(convert_to_lowercase)"
   ]
  },
  {
   "cell_type": "code",
   "execution_count": null,
   "id": "f42581a3-c6a7-41dd-ba26-b18176750a46",
   "metadata": {},
   "outputs": [],
   "source": [
    "X = X.apply(remove_punctuations)"
   ]
  },
  {
   "cell_type": "code",
   "execution_count": null,
   "id": "9f36f5bb-7188-428a-9b3b-9a1ad31088ec",
   "metadata": {},
   "outputs": [],
   "source": [
    "X = X.apply(remove_stopwords)"
   ]
  },
  {
   "cell_type": "code",
   "execution_count": null,
   "id": "20dc9f47-d981-4e39-9da4-c486a4c2e223",
   "metadata": {},
   "outputs": [],
   "source": [
    "X = X.apply(remove_repeating_characters)"
   ]
  },
  {
   "cell_type": "code",
   "execution_count": null,
   "id": "507adae2-5418-4382-9419-cc5f3e18f403",
   "metadata": {},
   "outputs": [],
   "source": [
    "X = X.apply(remove_numeric)"
   ]
  },
  {
   "cell_type": "code",
   "execution_count": null,
   "id": "03bb33de-11b7-462e-a132-a361f4614ec2",
   "metadata": {},
   "outputs": [],
   "source": [
    "X = X.apply(remove_non_russian_words)"
   ]
  },
  {
   "cell_type": "code",
   "execution_count": null,
   "id": "74cf8981-398e-4c83-aae6-7b4733af2651",
   "metadata": {},
   "outputs": [],
   "source": [
    "X = X.apply(text_lematization)"
   ]
  },
  {
   "cell_type": "code",
   "execution_count": null,
   "id": "909fc903-8dce-4b1c-af55-6693f2542213",
   "metadata": {},
   "outputs": [],
   "source": [
    "X_test = X[:len(X_test)]\n",
    "X_train = X[len(X_test):(len(X_train)+len(X_test))]\n",
    "X_val = X[len(X_val):]"
   ]
  },
  {
   "cell_type": "markdown",
   "id": "b55fd4c5-eb16-4aa8-8f27-700e3a2b43ac",
   "metadata": {},
   "source": [
    "### TF-IDF Vectorization"
   ]
  },
  {
   "cell_type": "code",
   "execution_count": null,
   "id": "e1a32661-3dd7-4376-8d79-ab0d84a8b8fd",
   "metadata": {},
   "outputs": [],
   "source": [
    "from sklearn.feature_extraction.text import TfidfVectorizer\n",
    "vectorizer = TfidfVectorizer()"
   ]
  },
  {
   "cell_type": "code",
   "execution_count": null,
   "id": "2ac10160-22cb-4858-acf9-adf80df8c541",
   "metadata": {},
   "outputs": [],
   "source": [
    "train = vectorizer.fit_transform(X_train)\n",
    "val = vectorizer.transform(X_val)\n",
    "test = vectorizer.transform(X_test)"
   ]
  },
  {
   "cell_type": "code",
   "execution_count": null,
   "id": "c59ea653-3e5e-4294-9b44-51e93b863541",
   "metadata": {},
   "outputs": [],
   "source": [
    "feature_names = vectorizer.get_feature_names_out()"
   ]
  },
  {
   "cell_type": "markdown",
   "id": "c7c7ed92-c788-4282-b0b5-f770cfdae6a8",
   "metadata": {},
   "source": [
    "### Logistic Regression"
   ]
  },
  {
   "cell_type": "code",
   "execution_count": null,
   "id": "fa155fb1-3bdf-4df2-ad3a-2145c77d2dbc",
   "metadata": {},
   "outputs": [],
   "source": [
    "from sklearn.linear_model import LogisticRegression"
   ]
  },
  {
   "cell_type": "code",
   "execution_count": null,
   "id": "b05fc011-e3e2-4eba-8eed-341c8cca062b",
   "metadata": {},
   "outputs": [],
   "source": [
    "# Training the model\n",
    "model = LogisticRegression()\n",
    "model.fit(train, y_train)"
   ]
  },
  {
   "cell_type": "code",
   "execution_count": null,
   "id": "9124a555-8d75-4c78-9571-51d2f3df8a9d",
   "metadata": {},
   "outputs": [],
   "source": [
    "from sklearn.metrics import classification_report\n",
    "\n",
    "y_pred = model.predict(test)\n",
    "print(classification_report(y_test, y_pred))"
   ]
  },
  {
   "cell_type": "markdown",
   "id": "35aa6555-1781-4a41-a091-b0ee76dd5c62",
   "metadata": {},
   "source": [
    "### Simple XGBoost classifier"
   ]
  },
  {
   "cell_type": "code",
   "execution_count": null,
   "id": "9b9a10f2-d8ec-4ff2-a7c7-efb56c7633fc",
   "metadata": {},
   "outputs": [],
   "source": [
    "from sklearn.metrics import accuracy_score, classification_report\n",
    "from xgboost import XGBClassifier"
   ]
  },
  {
   "cell_type": "code",
   "execution_count": null,
   "id": "6b106a4d-d943-4b1b-a38c-2d3e2a24e871",
   "metadata": {
    "scrolled": true
   },
   "outputs": [],
   "source": [
    "xgb_model = XGBClassifier(n_estimators = 500, max_depth = 5, learning_rate = 0.05, eval_metric='logloss')\n",
    "xgb_model.fit(train, y_train)"
   ]
  },
  {
   "cell_type": "markdown",
   "id": "4b48386c-849a-421e-a4c2-ff06b0ae9d13",
   "metadata": {},
   "source": [
    "**XGBoost prediction**"
   ]
  },
  {
   "cell_type": "code",
   "execution_count": null,
   "id": "5d4ae001-73bb-4ceb-ba44-e321f099d5b2",
   "metadata": {},
   "outputs": [],
   "source": [
    "y_pred = xgb_model.predict(test)\n",
    "\n",
    "accuracy = accuracy_score(y_test, y_pred)\n",
    "print(f'Accuracy: {accuracy:.2f}')\n",
    "\n",
    "print(classification_report(y_test, y_pred))"
   ]
  },
  {
   "cell_type": "markdown",
   "id": "19ab11bc-2dd5-4e8b-834d-53b17edf9b09",
   "metadata": {},
   "source": [
    "### XGBoost optimization"
   ]
  },
  {
   "cell_type": "code",
   "execution_count": null,
   "id": "002311c2-b9db-4fae-be28-b1e83a8a0189",
   "metadata": {},
   "outputs": [],
   "source": [
    "import optuna"
   ]
  },
  {
   "cell_type": "code",
   "execution_count": null,
   "id": "5dde1356-f787-4097-8d58-ab8738b41850",
   "metadata": {},
   "outputs": [],
   "source": [
    "from sklearn.metrics import f1_score"
   ]
  },
  {
   "cell_type": "code",
   "execution_count": null,
   "id": "38902dd2-ca75-4c1b-89f8-2958a6076673",
   "metadata": {},
   "outputs": [],
   "source": [
    "def objective(trial):\n",
    "   params = {\n",
    "       'objective': 'binary:logistic',\n",
    "       'eval_metric': 'logloss', \n",
    "       'num_class': 1,\n",
    "       'learning_rate': trial.suggest_float('learning_rate', 0.01, 0.1),\n",
    "       'max_depth': trial.suggest_int('max_depth', 3, 7),\n",
    "       # 'min_child_weight': trial.suggest_int('min_child_weight', 1, 10),\n",
    "       # 'subsample': trial.suggest_float('subsample', 0.5, 0.8),\n",
    "       # 'colsample_bytree': trial.suggest_float('colsample_bytree', 0.5, 1.0),\n",
    "       'n_estimators': trial.suggest_int('n_estimators', 100, 1000)\n",
    "   }\n",
    "\n",
    "   # Создание и обучение модели\n",
    "   model = XGBClassifier(**params)\n",
    "   model.fit(train, y_train)\n",
    "\n",
    "   # Предсказание и оценка\n",
    "   y_pred = model.predict(val)\n",
    "   f1score = f1_score(y_val, y_pred)\n",
    "\n",
    "   return f1score\n"
   ]
  },
  {
   "cell_type": "code",
   "execution_count": null,
   "id": "a9b10369-09d4-4b58-94ef-7ef9b87ce5ab",
   "metadata": {
    "scrolled": true
   },
   "outputs": [],
   "source": [
    "study = optuna.create_study(direction = 'maximize')\n",
    "study.optimize(objective, n_trials=100)  # Вы можете изменить количество итераций\n",
    "\n",
    "print(\"Best hyperparameters: \", study.best_params)\n",
    "print(\"Best accuracy: \", study.best_value)"
   ]
  },
  {
   "cell_type": "code",
   "execution_count": null,
   "id": "c819613d-a6ac-4e74-ad1a-afcd4d8e228d",
   "metadata": {},
   "outputs": [],
   "source": [
    "model_optimized = XGBClassifier(**study.best_params)\n",
    "model_optimized.fit(train, y_train)\n",
    "\n",
    "# Предсказание и оценка\n",
    "y_pred = model_optimized.predict(test)\n",
    "f1score = f1_score(y_test, y_pred)"
   ]
  },
  {
   "cell_type": "code",
   "execution_count": null,
   "id": "7da40420-0d14-46d6-89b1-ec985559f0b5",
   "metadata": {},
   "outputs": [],
   "source": [
    "print(classification_report(y_test, y_pred))"
   ]
  },
  {
   "cell_type": "markdown",
   "id": "194ac8d5-6485-40c2-9c7e-64dfd30a5e37",
   "metadata": {},
   "source": [
    "### Simple CatBoost classifier"
   ]
  },
  {
   "cell_type": "code",
   "execution_count": null,
   "id": "1bbbab95-67be-4595-aad6-b343294f8fd8",
   "metadata": {},
   "outputs": [],
   "source": [
    "from catboost import CatBoostClassifier"
   ]
  },
  {
   "cell_type": "code",
   "execution_count": null,
   "id": "547ec418-0f37-43e7-adfd-8119c449581f",
   "metadata": {},
   "outputs": [],
   "source": [
    "model = CatBoostClassifier(\n",
    "    iterations=500,\n",
    "    learning_rate=0.1,\n",
    "    depth=3,\n",
    "    eval_metric='Logloss',\n",
    "    verbose=100\n",
    ")\n",
    "\n",
    "model.fit(train, y_train)"
   ]
  },
  {
   "cell_type": "markdown",
   "id": "7af540a6-c45a-46ad-98c2-6a88e31d71bb",
   "metadata": {},
   "source": [
    "**CatBoost Prediction**"
   ]
  },
  {
   "cell_type": "code",
   "execution_count": null,
   "id": "8953d879-dc62-4dbd-9db2-fb6e34f56c9c",
   "metadata": {},
   "outputs": [],
   "source": [
    "y_pred = model.predict(test)\n",
    "\n",
    "accuracy = accuracy_score(y_test, y_pred)\n",
    "print(f'Accuracy: {accuracy:.2f}')\n",
    "\n",
    "print(classification_report(y_test, y_pred))"
   ]
  },
  {
   "cell_type": "markdown",
   "id": "b108a9f9-d559-4add-b9fe-6149db3ccbd0",
   "metadata": {},
   "source": [
    "### Dimensionality reduction of feature space"
   ]
  },
  {
   "cell_type": "code",
   "execution_count": null,
   "id": "10b70f8e-8768-4100-8d3f-a742c8b4192f",
   "metadata": {},
   "outputs": [],
   "source": [
    "feature_names = vectorizer.get_feature_names_out()"
   ]
  },
  {
   "cell_type": "code",
   "execution_count": null,
   "id": "93fe564d-ecd3-4331-82b9-493841c374ae",
   "metadata": {},
   "outputs": [],
   "source": [
    "importance = model_optimized.feature_importances_\n",
    "feature_importance = dict(zip(feature_names, importance))\n",
    "\n",
    "sorted_features = sorted(\n",
    "    feature_importance.items(), \n",
    "    key=lambda x: x[1], \n",
    "    reverse=True\n",
    ")"
   ]
  },
  {
   "cell_type": "code",
   "execution_count": null,
   "id": "f7f8e900-f14f-4aca-939f-5cf6c6eef4fa",
   "metadata": {},
   "outputs": [],
   "source": [
    "top_features = [x[0] for x in sorted_features]  \n",
    "n_features = 2154 \n",
    "\n",
    "X_top = train[top_features[:n_features]]"
   ]
  },
  {
   "cell_type": "code",
   "execution_count": null,
   "id": "5c57da7e-fc23-4760-9b94-87d6d0aaff92",
   "metadata": {},
   "outputs": [],
   "source": [
    "X_train_new, X_val_new, y_train_new, y_val_new = train_test_split(\n",
    "    X_top, labels, test_size=0.2, random_state=42\n",
    ")\n",
    "\n",
    "optimized_model = xgb.XGBClassifier(\n",
    "    n_estimators=500,  \n",
    "    learning_rate=0.05,\n",
    "    max_depth=5, \n",
    "    random_state=42\n",
    ")\n",
    "optimized_model.fit(X_train_new, y_train_new)"
   ]
  },
  {
   "cell_type": "code",
   "execution_count": null,
   "id": "671408f9-5e45-4d36-8712-71b4b502903c",
   "metadata": {},
   "outputs": [],
   "source": [
    "xgb_model = XGBClassifier(n_estimators = 500, max_depth = 5, learning_rate = 0.05, eval_metric='logloss')\n",
    "\n",
    "xgb_model.fit(train, y_train)"
   ]
  },
  {
   "cell_type": "code",
   "execution_count": null,
   "id": "47913033-1468-4a10-af64-c1ebb284b936",
   "metadata": {},
   "outputs": [],
   "source": [
    "y_pred = xgb_model.predict(test)\n",
    "\n",
    "accuracy = accuracy_score(y_test, y_pred)\n",
    "print(f'Accuracy: {accuracy:.2f}')\n",
    "\n",
    "print(classification_report(y_test, y_pred))"
   ]
  },
  {
   "cell_type": "markdown",
   "id": "e7726a50-5d39-471b-b17b-0d059836afb0",
   "metadata": {},
   "source": [
    "### Word2Vec"
   ]
  },
  {
   "cell_type": "code",
   "execution_count": null,
   "id": "6dd3939b-c9c7-40fc-9d6e-92489eafd2cc",
   "metadata": {},
   "outputs": [],
   "source": [
    "from gensim.models import Word2Vec\n",
    "\n",
    "# Параметры модели:\n",
    "vector_size = 100  # Размерность вектора слова\n",
    "window = 5         # Размер окна контекста\n",
    "min_count = 20      # Игнорировать слова с частотой < 20\n",
    "\n",
    "model = Word2Vec(\n",
    "    sentences=X.message_txt,\n",
    "    vector_size=vector_size,\n",
    "    window=window,\n",
    "    min_count=min_count,\n",
    "    workers=4       # Число ядер CPU\n",
    ")\n",
    "\n",
    "# Сохранение модели\n",
    "model.save(\"word2vec.model\")"
   ]
  },
  {
   "cell_type": "code",
   "execution_count": null,
   "id": "063caed0-adc0-438d-b1af-dd99324462ed",
   "metadata": {},
   "outputs": [],
   "source": [
    "def text_to_vector(tokens):\n",
    "    vectors = []\n",
    "    for word in tokens:\n",
    "        if word in model.wv:\n",
    "            vectors.append(model.wv[word])\n",
    "    if len(vectors) == 0:\n",
    "        return np.zeros(model.vector_size)\n",
    "    return np.mean(vectors, axis=0)\n",
    "\n",
    "tmp = np.array([text_to_vector(tokens) for tokens in X.message_txt])"
   ]
  },
  {
   "cell_type": "code",
   "execution_count": null,
   "id": "ce4f97f1-fd66-4f4f-bda8-9f852f688745",
   "metadata": {},
   "outputs": [],
   "source": [
    "xgb_model.fit(X_train, y_train)"
   ]
  },
  {
   "cell_type": "code",
   "execution_count": null,
   "id": "1068b6ff-0905-4f51-ad08-45f74c67778d",
   "metadata": {},
   "outputs": [],
   "source": [
    "y_pred = xgb_model.predict(X_test)\n",
    "\n",
    "accuracy = accuracy_score(y_test, y_pred)\n",
    "print(f'Accuracy: {accuracy:.2f}')\n",
    "\n",
    "print(classification_report(y_test, y_pred))"
   ]
  },
  {
   "cell_type": "markdown",
   "id": "24b2f4df-c544-46b5-91ae-c3131d755b8a",
   "metadata": {},
   "source": [
    "### Оптимизация Word2Vec x XGBoost "
   ]
  },
  {
   "cell_type": "code",
   "execution_count": null,
   "id": "1e6b30b7-2225-493e-8411-93da27e9d750",
   "metadata": {},
   "outputs": [],
   "source": [
    "import optuna"
   ]
  },
  {
   "cell_type": "code",
   "execution_count": null,
   "id": "32c98263-a99b-4379-8107-4a5a3427750c",
   "metadata": {},
   "outputs": [],
   "source": [
    "from sklearn.metrics import f1_score"
   ]
  },
  {
   "cell_type": "code",
   "execution_count": null,
   "id": "bb60110d-2539-4a6d-aad5-6fede8203d50",
   "metadata": {},
   "outputs": [],
   "source": [
    "def objective(trial):\n",
    "   params = {\n",
    "       'objective': 'binary:logistic',\n",
    "       'eval_metric': 'logloss', \n",
    "       'num_class': 1,\n",
    "       'learning_rate': trial.suggest_float('learning_rate', 0.01, 0.1),\n",
    "       'max_depth': trial.suggest_int('max_depth', 3, 10),\n",
    "       # 'min_child_weight': trial.suggest_int('min_child_weight', 1, 10),\n",
    "       # 'subsample': trial.suggest_float('subsample', 0.5, 0.8),\n",
    "       # 'colsample_bytree': trial.suggest_float('colsample_bytree', 0.5, 1.0),\n",
    "       'n_estimators': trial.suggest_int('n_estimators', 100, 5000)\n",
    "   }\n",
    "\n",
    "   # Создание и обучение модели\n",
    "   model = XGBClassifier(**params)\n",
    "   model.fit(X_train, y_train)\n",
    "\n",
    "   # Предсказание и оценка\n",
    "   y_pred = model.predict(X_val)\n",
    "   f1score = f1_score(y_val, y_pred)\n",
    "\n",
    "   return f1score\n"
   ]
  },
  {
   "cell_type": "code",
   "execution_count": null,
   "id": "f71e847f-8b6c-4dde-93a6-a408a2b5432b",
   "metadata": {},
   "outputs": [],
   "source": [
    "study = optuna.create_study(direction = 'maximize')\n",
    "study.optimize(objective, n_trials=100)  # Вы можете изменить количество итераций\n",
    "\n",
    "print(\"Best hyperparameters: \", study.best_params)\n",
    "print(\"Best accuracy: \", study.best_value)"
   ]
  },
  {
   "cell_type": "markdown",
   "id": "8e06e75f-5160-4f4f-9865-7b2d1207c168",
   "metadata": {},
   "source": [
    "### Optimized Word2Vec x XGBoost "
   ]
  },
  {
   "cell_type": "code",
   "execution_count": null,
   "id": "1d6926f8-8752-4a13-9857-7c08df830199",
   "metadata": {},
   "outputs": [],
   "source": [
    "xgb_opt = XGBClassifier(**study.best_params)\n",
    "xgb_opt.fit(train, y_train)"
   ]
  },
  {
   "cell_type": "code",
   "execution_count": null,
   "id": "737a0bd7-8197-473a-98f7-7599e1c757fe",
   "metadata": {},
   "outputs": [],
   "source": [
    "y_pred = xgb_opt.predict(test)\n",
    "\n",
    "print(classification_report(y_test, y_pred))"
   ]
  },
  {
   "cell_type": "markdown",
   "id": "dfe8ba49-a2d1-4963-afe3-38ae7575aa1e",
   "metadata": {},
   "source": [
    "### Simple Catboost Classifier x TF-IDF"
   ]
  },
  {
   "cell_type": "code",
   "execution_count": null,
   "id": "dd4dea9c-0375-4e17-8612-468937db980e",
   "metadata": {},
   "outputs": [],
   "source": [
    "from catboost import CatBoostClassifier"
   ]
  },
  {
   "cell_type": "code",
   "execution_count": null,
   "id": "713138bf-1c0a-4eaa-bf87-0937c9ffc4ed",
   "metadata": {},
   "outputs": [],
   "source": [
    "model_ctb = CatBoostClassifier(\n",
    "    iterations=500,\n",
    "    learning_rate=0.1,\n",
    "    depth=3,\n",
    "    eval_metric='Logloss',\n",
    "    verbose=100\n",
    ")\n",
    "\n",
    "model_ctb.fit(train, y_train)"
   ]
  },
  {
   "cell_type": "code",
   "execution_count": null,
   "id": "e1f91b40-d31c-4336-ac6c-ec903ed1aec4",
   "metadata": {},
   "outputs": [],
   "source": [
    "y_pred = model_ctb.predict(test)\n",
    "\n",
    "accuracy = accuracy_score(y_test, y_pred)\n",
    "print(f'Accuracy: {accuracy:.2f}')\n",
    "\n",
    "print(classification_report(y_test, y_pred))"
   ]
  },
  {
   "cell_type": "markdown",
   "id": "1365af65-b0dc-48c6-b2f0-40f12184d3e4",
   "metadata": {},
   "source": [
    "### Catboost optimization x TF-IDF"
   ]
  },
  {
   "cell_type": "code",
   "execution_count": null,
   "id": "55d17b27-d19a-4482-b4f2-5c510261a9e5",
   "metadata": {},
   "outputs": [],
   "source": [
    "def objective(trial):\n",
    "   params = {\n",
    "       'iterations': trial.suggest_int('iterations', 100, 1000),\n",
    "        'depth': trial.suggest_int('depth', 4, 10),\n",
    "        'learning_rate': trial.suggest_loguniform('learning_rate', 0.01, 0.1), \n",
    "        'verbose': False\n",
    "   }\n",
    "\n",
    "   # Создание и обучение модели\n",
    "   model = CatBoostClassifier(**params)\n",
    "   model.fit(train, y_train)\n",
    "\n",
    "   # Предсказание и оценка\n",
    "   y_pred = model.predict(val)\n",
    "   f1score = f1_score(y_val, y_pred)\n",
    "\n",
    "   return f1score\n"
   ]
  },
  {
   "cell_type": "code",
   "execution_count": null,
   "id": "ed910028-ce0c-4213-b34f-73823d117b28",
   "metadata": {},
   "outputs": [],
   "source": [
    "study = optuna.create_study(direction = 'maximize')\n",
    "study.optimize(objective, n_trials=100)  # Вы можете изменить количество итераций\n",
    "\n",
    "print(\"Best hyperparameters: \", study.best_params)\n",
    "print(\"Best accuracy: \", study.best_value)"
   ]
  },
  {
   "cell_type": "code",
   "execution_count": null,
   "id": "c88607d8-cf25-427e-a154-b64564235e1c",
   "metadata": {},
   "outputs": [],
   "source": [
    "ctb_opt = CatBoostClassifier(**study.best_params)\n",
    "ctb_opt.fit(train, y_train)"
   ]
  },
  {
   "cell_type": "code",
   "execution_count": null,
   "id": "de8c0829-5158-4071-b74f-8c3007008e3d",
   "metadata": {},
   "outputs": [],
   "source": [
    "y_pred = ctb_opt.predict(test)\n",
    "\n",
    "print(classification_report(y_test, y_pred))"
   ]
  },
  {
   "cell_type": "markdown",
   "id": "daa1a0f6-1cc1-4f73-9976-557b0432c01c",
   "metadata": {},
   "source": [
    "### CatBoost x Word2Vec"
   ]
  },
  {
   "cell_type": "code",
   "execution_count": null,
   "id": "50a0bbd0-a98e-4add-a5ea-e5cc214fa9a2",
   "metadata": {},
   "outputs": [],
   "source": [
    "model_ctb_w2v = CatBoostClassifier(\n",
    "    iterations=500,\n",
    "    learning_rate=0.1,\n",
    "    depth=3,\n",
    "    eval_metric='Logloss',\n",
    "    verbose=100\n",
    ")\n",
    "\n",
    "model_ctb_w2v.fit(X_train, y_train)"
   ]
  },
  {
   "cell_type": "code",
   "execution_count": null,
   "id": "02f66306-9a1f-4c42-bbad-2eea45633ce6",
   "metadata": {},
   "outputs": [],
   "source": [
    "y_pred = model_ctb_w2v.predict(X_test)\n",
    "\n",
    "print(classification_report(y_test, y_pred))"
   ]
  },
  {
   "cell_type": "markdown",
   "id": "54adb106-d5ab-4ba5-9c90-7215266bf699",
   "metadata": {},
   "source": [
    "### CatBoost x Word2Vec optimized"
   ]
  },
  {
   "cell_type": "code",
   "execution_count": null,
   "id": "8c697b03-ddcc-460f-9e51-e42098e0b772",
   "metadata": {},
   "outputs": [],
   "source": [
    "def objective(trial):\n",
    "   params = {\n",
    "       'iterations': trial.suggest_int('iterations', 100, 1000),\n",
    "        'depth': trial.suggest_int('depth', 4, 10),\n",
    "        'learning_rate': trial.suggest_loguniform('learning_rate', 0.01, 0.3),\n",
    "        'verbose': True\n",
    "   }\n",
    "\n",
    "   # Создание и обучение модели\n",
    "   model = CatBoostClassifier(**params)\n",
    "   model.fit(X_train, y_train)\n",
    "\n",
    "   # Предсказание и оценка\n",
    "   y_pred = model.predict(X_val)\n",
    "   f1score = f1_score(y_val, y_pred)\n",
    "\n",
    "   return f1score"
   ]
  },
  {
   "cell_type": "code",
   "execution_count": null,
   "id": "df92ae4b-90e5-4cac-b924-608eb48faee7",
   "metadata": {},
   "outputs": [],
   "source": [
    "study = optuna.create_study(direction = 'maximize')\n",
    "study.optimize(objective, n_trials=100)  # Вы можете изменить количество итераций\n",
    "\n",
    "print(\"Best hyperparameters: \", study.best_params)\n",
    "print(\"Best accuracy: \", study.best_value)"
   ]
  },
  {
   "cell_type": "code",
   "execution_count": null,
   "id": "83544ae4-ab07-4223-bc36-1a40288d9f8c",
   "metadata": {},
   "outputs": [],
   "source": [
    "ctb_opt_w2v = CatBoostClassifier(**study.best_params)\n",
    "ctb_opt_w2v.fit(X_train, y_train)"
   ]
  },
  {
   "cell_type": "code",
   "execution_count": null,
   "id": "91bbeefb-91a2-4632-be8e-771602a2bc3a",
   "metadata": {},
   "outputs": [],
   "source": [
    "y_pred = ctb_opt_w2v.predict(X_test)\n",
    "\n",
    "print(classification_report(y_test, y_pred))"
   ]
  }
 ],
 "metadata": {
  "kernelspec": {
   "display_name": "Python 3 (ipykernel)",
   "language": "python",
   "name": "python3"
  },
  "language_info": {
   "codemirror_mode": {
    "name": "ipython",
    "version": 3
   },
   "file_extension": ".py",
   "mimetype": "text/x-python",
   "name": "python",
   "nbconvert_exporter": "python",
   "pygments_lexer": "ipython3",
   "version": "3.12.7"
  }
 },
 "nbformat": 4,
 "nbformat_minor": 5
}
